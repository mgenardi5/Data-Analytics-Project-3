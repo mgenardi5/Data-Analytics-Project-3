{
 "cells": [
  {
   "cell_type": "code",
   "execution_count": 2,
   "metadata": {},
   "outputs": [],
   "source": [
    "import pandas as pd\n",
    "import numpy as np\n",
    "import seaborn as sn\n",
    "import matplotlib.pyplot as plot\n",
    "df = pd.read_csv('https://raw.githubusercontent.com/mgenardi5/Data-Analytics-Project-3/main/NYPD_Arrest_Data__Year_to_Date_.csv')\n",
    "#Import data set and packages"
   ]
  },
  {
   "cell_type": "code",
   "execution_count": 3,
   "metadata": {},
   "outputs": [
    {
     "data": {
      "text/html": [
       "<div>\n",
       "<style scoped>\n",
       "    .dataframe tbody tr th:only-of-type {\n",
       "        vertical-align: middle;\n",
       "    }\n",
       "\n",
       "    .dataframe tbody tr th {\n",
       "        vertical-align: top;\n",
       "    }\n",
       "\n",
       "    .dataframe thead th {\n",
       "        text-align: right;\n",
       "    }\n",
       "</style>\n",
       "<table border=\"1\" class=\"dataframe\">\n",
       "  <thead>\n",
       "    <tr style=\"text-align: right;\">\n",
       "      <th></th>\n",
       "      <th>ARREST_KEY</th>\n",
       "      <th>ARREST_DATE</th>\n",
       "      <th>PD_CD</th>\n",
       "      <th>PD_DESC</th>\n",
       "      <th>KY_CD</th>\n",
       "      <th>OFNS_DESC</th>\n",
       "      <th>LAW_CODE</th>\n",
       "      <th>LAW_CAT_CD</th>\n",
       "      <th>ARREST_BORO</th>\n",
       "      <th>ARREST_PRECINCT</th>\n",
       "      <th>JURISDICTION_CODE</th>\n",
       "      <th>AGE_GROUP</th>\n",
       "      <th>PERP_SEX</th>\n",
       "      <th>PERP_RACE</th>\n",
       "      <th>X_COORD_CD</th>\n",
       "      <th>Y_COORD_CD</th>\n",
       "      <th>Latitude</th>\n",
       "      <th>Longitude</th>\n",
       "      <th>New Georeferenced Column</th>\n",
       "    </tr>\n",
       "  </thead>\n",
       "  <tbody>\n",
       "    <tr>\n",
       "      <th>0</th>\n",
       "      <td>263187871</td>\n",
       "      <td>02/07/2023</td>\n",
       "      <td>105.0</td>\n",
       "      <td>STRANGULATION 1ST</td>\n",
       "      <td>106.0</td>\n",
       "      <td>FELONY ASSAULT</td>\n",
       "      <td>PL 1211200</td>\n",
       "      <td>F</td>\n",
       "      <td>S</td>\n",
       "      <td>120</td>\n",
       "      <td>0</td>\n",
       "      <td>25-44</td>\n",
       "      <td>M</td>\n",
       "      <td>BLACK</td>\n",
       "      <td>951637</td>\n",
       "      <td>171141</td>\n",
       "      <td>40.636362</td>\n",
       "      <td>-74.117505</td>\n",
       "      <td>POINT (-74.117505 40.636362)</td>\n",
       "    </tr>\n",
       "    <tr>\n",
       "      <th>1</th>\n",
       "      <td>261368273</td>\n",
       "      <td>01/04/2023</td>\n",
       "      <td>NaN</td>\n",
       "      <td>(null)</td>\n",
       "      <td>NaN</td>\n",
       "      <td>(null)</td>\n",
       "      <td>RPA0076801</td>\n",
       "      <td>M</td>\n",
       "      <td>M</td>\n",
       "      <td>34</td>\n",
       "      <td>0</td>\n",
       "      <td>25-44</td>\n",
       "      <td>F</td>\n",
       "      <td>BLACK</td>\n",
       "      <td>1004287</td>\n",
       "      <td>251338</td>\n",
       "      <td>40.856519</td>\n",
       "      <td>-73.927564</td>\n",
       "      <td>POINT (-73.927564 40.856519)</td>\n",
       "    </tr>\n",
       "    <tr>\n",
       "      <th>2</th>\n",
       "      <td>261667175</td>\n",
       "      <td>01/10/2023</td>\n",
       "      <td>101.0</td>\n",
       "      <td>ASSAULT 3</td>\n",
       "      <td>344.0</td>\n",
       "      <td>ASSAULT 3 &amp; RELATED OFFENSES</td>\n",
       "      <td>PL 1200001</td>\n",
       "      <td>M</td>\n",
       "      <td>B</td>\n",
       "      <td>42</td>\n",
       "      <td>0</td>\n",
       "      <td>18-24</td>\n",
       "      <td>F</td>\n",
       "      <td>WHITE HISPANIC</td>\n",
       "      <td>1008754</td>\n",
       "      <td>238895</td>\n",
       "      <td>40.822355</td>\n",
       "      <td>-73.911463</td>\n",
       "      <td>POINT (-73.911463 40.822355)</td>\n",
       "    </tr>\n",
       "    <tr>\n",
       "      <th>3</th>\n",
       "      <td>264298625</td>\n",
       "      <td>02/27/2023</td>\n",
       "      <td>NaN</td>\n",
       "      <td>(null)</td>\n",
       "      <td>NaN</td>\n",
       "      <td>(null)</td>\n",
       "      <td>PL 2224000</td>\n",
       "      <td>F</td>\n",
       "      <td>Q</td>\n",
       "      <td>113</td>\n",
       "      <td>0</td>\n",
       "      <td>25-44</td>\n",
       "      <td>M</td>\n",
       "      <td>BLACK</td>\n",
       "      <td>1039225</td>\n",
       "      <td>181937</td>\n",
       "      <td>40.665881</td>\n",
       "      <td>-73.801837</td>\n",
       "      <td>POINT (-73.80183654 40.66588105)</td>\n",
       "    </tr>\n",
       "    <tr>\n",
       "      <th>4</th>\n",
       "      <td>261516485</td>\n",
       "      <td>01/07/2023</td>\n",
       "      <td>397.0</td>\n",
       "      <td>ROBBERY,OPEN AREA UNCLASSIFIED</td>\n",
       "      <td>105.0</td>\n",
       "      <td>ROBBERY</td>\n",
       "      <td>PL 1601001</td>\n",
       "      <td>F</td>\n",
       "      <td>M</td>\n",
       "      <td>18</td>\n",
       "      <td>0</td>\n",
       "      <td>&lt;18</td>\n",
       "      <td>M</td>\n",
       "      <td>BLACK</td>\n",
       "      <td>988210</td>\n",
       "      <td>218129</td>\n",
       "      <td>40.765390</td>\n",
       "      <td>-73.985702</td>\n",
       "      <td>POINT (-73.985702 40.76539)</td>\n",
       "    </tr>\n",
       "  </tbody>\n",
       "</table>\n",
       "</div>"
      ],
      "text/plain": [
       "   ARREST_KEY ARREST_DATE  PD_CD                         PD_DESC  KY_CD  \\\n",
       "0   263187871  02/07/2023  105.0               STRANGULATION 1ST  106.0   \n",
       "1   261368273  01/04/2023    NaN                          (null)    NaN   \n",
       "2   261667175  01/10/2023  101.0                       ASSAULT 3  344.0   \n",
       "3   264298625  02/27/2023    NaN                          (null)    NaN   \n",
       "4   261516485  01/07/2023  397.0  ROBBERY,OPEN AREA UNCLASSIFIED  105.0   \n",
       "\n",
       "                      OFNS_DESC    LAW_CODE LAW_CAT_CD ARREST_BORO  \\\n",
       "0                FELONY ASSAULT  PL 1211200          F           S   \n",
       "1                        (null)  RPA0076801          M           M   \n",
       "2  ASSAULT 3 & RELATED OFFENSES  PL 1200001          M           B   \n",
       "3                        (null)  PL 2224000          F           Q   \n",
       "4                       ROBBERY  PL 1601001          F           M   \n",
       "\n",
       "   ARREST_PRECINCT  JURISDICTION_CODE AGE_GROUP PERP_SEX       PERP_RACE  \\\n",
       "0              120                  0     25-44        M           BLACK   \n",
       "1               34                  0     25-44        F           BLACK   \n",
       "2               42                  0     18-24        F  WHITE HISPANIC   \n",
       "3              113                  0     25-44        M           BLACK   \n",
       "4               18                  0       <18        M           BLACK   \n",
       "\n",
       "   X_COORD_CD  Y_COORD_CD   Latitude  Longitude  \\\n",
       "0      951637      171141  40.636362 -74.117505   \n",
       "1     1004287      251338  40.856519 -73.927564   \n",
       "2     1008754      238895  40.822355 -73.911463   \n",
       "3     1039225      181937  40.665881 -73.801837   \n",
       "4      988210      218129  40.765390 -73.985702   \n",
       "\n",
       "           New Georeferenced Column  \n",
       "0      POINT (-74.117505 40.636362)  \n",
       "1      POINT (-73.927564 40.856519)  \n",
       "2      POINT (-73.911463 40.822355)  \n",
       "3  POINT (-73.80183654 40.66588105)  \n",
       "4       POINT (-73.985702 40.76539)  "
      ]
     },
     "execution_count": 3,
     "metadata": {},
     "output_type": "execute_result"
    }
   ],
   "source": [
    "df.head()"
   ]
  },
  {
   "cell_type": "code",
   "execution_count": 4,
   "metadata": {},
   "outputs": [
    {
     "data": {
      "text/plain": [
       "ARREST_KEY                    int64\n",
       "ARREST_DATE                  object\n",
       "PD_CD                       float64\n",
       "PD_DESC                      object\n",
       "KY_CD                       float64\n",
       "OFNS_DESC                    object\n",
       "LAW_CODE                     object\n",
       "LAW_CAT_CD                   object\n",
       "ARREST_BORO                  object\n",
       "ARREST_PRECINCT               int64\n",
       "JURISDICTION_CODE             int64\n",
       "AGE_GROUP                    object\n",
       "PERP_SEX                     object\n",
       "PERP_RACE                    object\n",
       "X_COORD_CD                    int64\n",
       "Y_COORD_CD                    int64\n",
       "Latitude                    float64\n",
       "Longitude                   float64\n",
       "New Georeferenced Column     object\n",
       "dtype: object"
      ]
     },
     "execution_count": 4,
     "metadata": {},
     "output_type": "execute_result"
    }
   ],
   "source": [
    "df.dtypes\n",
    "#highlevel review of dataset"
   ]
  },
  {
   "cell_type": "code",
   "execution_count": 5,
   "metadata": {},
   "outputs": [
    {
     "data": {
      "text/plain": [
       "array(['S', 'M', 'B', 'Q', 'K'], dtype=object)"
      ]
     },
     "execution_count": 5,
     "metadata": {},
     "output_type": "execute_result"
    }
   ],
   "source": [
    "df['ARREST_BORO'].unique()\n",
    "#understand values in desired field for analysis"
   ]
  },
  {
   "cell_type": "code",
   "execution_count": 6,
   "metadata": {},
   "outputs": [],
   "source": [
    "df['ARREST_BORO'].replace('K','Brooklyn',inplace=True)\n",
    "df['ARREST_BORO'].replace('B','Bronx',inplace=True)\n",
    "df['ARREST_BORO'].replace('Q','Queens',inplace=True)\n",
    "df['ARREST_BORO'].replace('M','Manhattan',inplace=True)\n",
    "df['ARREST_BORO'].replace('S','Staten Island',inplace=True)\n",
    "#replace borough values based on data dictionary"
   ]
  },
  {
   "cell_type": "code",
   "execution_count": 10,
   "metadata": {},
   "outputs": [
    {
     "data": {
      "text/plain": [
       "array(['F', 'M', '9', nan, 'V', 'I'], dtype=object)"
      ]
     },
     "execution_count": 10,
     "metadata": {},
     "output_type": "execute_result"
    }
   ],
   "source": [
    "df['LAW_CAT_CD'].unique()"
   ]
  },
  {
   "cell_type": "code",
   "execution_count": 14,
   "metadata": {},
   "outputs": [],
   "source": [
    "df['LAW_CAT_CD'].replace('F','Felony',inplace=True)\n",
    "df['LAW_CAT_CD'].replace('M','Misdemeanor',inplace=True)\n",
    "df['LAW_CAT_CD'].replace('V','Violation',inplace=True)\n",
    "#replace level of offense values based on data dictionary"
   ]
  },
  {
   "cell_type": "code",
   "execution_count": 15,
   "metadata": {},
   "outputs": [],
   "source": [
    "df1 = df.loc[(df['LAW_CAT_CD'] == 'Felony') | (df['LAW_CAT_CD'] == 'Violation') | (df['LAW_CAT_CD'] == 'Misdemeanor')]\n",
    "#exclude data entries that are not defined in data dictionary"
   ]
  },
  {
   "cell_type": "code",
   "execution_count": 17,
   "metadata": {},
   "outputs": [
    {
     "data": {
      "text/html": [
       "<div>\n",
       "<style scoped>\n",
       "    .dataframe tbody tr th:only-of-type {\n",
       "        vertical-align: middle;\n",
       "    }\n",
       "\n",
       "    .dataframe tbody tr th {\n",
       "        vertical-align: top;\n",
       "    }\n",
       "\n",
       "    .dataframe thead th {\n",
       "        text-align: right;\n",
       "    }\n",
       "</style>\n",
       "<table border=\"1\" class=\"dataframe\">\n",
       "  <thead>\n",
       "    <tr style=\"text-align: right;\">\n",
       "      <th></th>\n",
       "      <th>Arrest_ID</th>\n",
       "      <th>Level_of_Offense</th>\n",
       "      <th>Borough</th>\n",
       "    </tr>\n",
       "  </thead>\n",
       "  <tbody>\n",
       "    <tr>\n",
       "      <th>0</th>\n",
       "      <td>263187871</td>\n",
       "      <td>Felony</td>\n",
       "      <td>Staten Island</td>\n",
       "    </tr>\n",
       "    <tr>\n",
       "      <th>1</th>\n",
       "      <td>261368273</td>\n",
       "      <td>Misdemeanor</td>\n",
       "      <td>Manhattan</td>\n",
       "    </tr>\n",
       "    <tr>\n",
       "      <th>2</th>\n",
       "      <td>261667175</td>\n",
       "      <td>Misdemeanor</td>\n",
       "      <td>Bronx</td>\n",
       "    </tr>\n",
       "    <tr>\n",
       "      <th>3</th>\n",
       "      <td>264298625</td>\n",
       "      <td>Felony</td>\n",
       "      <td>Queens</td>\n",
       "    </tr>\n",
       "    <tr>\n",
       "      <th>4</th>\n",
       "      <td>261516485</td>\n",
       "      <td>Felony</td>\n",
       "      <td>Manhattan</td>\n",
       "    </tr>\n",
       "    <tr>\n",
       "      <th>...</th>\n",
       "      <td>...</td>\n",
       "      <td>...</td>\n",
       "      <td>...</td>\n",
       "    </tr>\n",
       "    <tr>\n",
       "      <th>54571</th>\n",
       "      <td>265375648</td>\n",
       "      <td>Felony</td>\n",
       "      <td>Queens</td>\n",
       "    </tr>\n",
       "    <tr>\n",
       "      <th>54572</th>\n",
       "      <td>265375611</td>\n",
       "      <td>Misdemeanor</td>\n",
       "      <td>Manhattan</td>\n",
       "    </tr>\n",
       "    <tr>\n",
       "      <th>54573</th>\n",
       "      <td>265027445</td>\n",
       "      <td>Felony</td>\n",
       "      <td>Queens</td>\n",
       "    </tr>\n",
       "    <tr>\n",
       "      <th>54574</th>\n",
       "      <td>265277526</td>\n",
       "      <td>Misdemeanor</td>\n",
       "      <td>Queens</td>\n",
       "    </tr>\n",
       "    <tr>\n",
       "      <th>54575</th>\n",
       "      <td>265989716</td>\n",
       "      <td>Felony</td>\n",
       "      <td>Queens</td>\n",
       "    </tr>\n",
       "  </tbody>\n",
       "</table>\n",
       "<p>53922 rows × 3 columns</p>\n",
       "</div>"
      ],
      "text/plain": [
       "       Arrest_ID Level_of_Offense        Borough\n",
       "0      263187871           Felony  Staten Island\n",
       "1      261368273      Misdemeanor      Manhattan\n",
       "2      261667175      Misdemeanor          Bronx\n",
       "3      264298625           Felony         Queens\n",
       "4      261516485           Felony      Manhattan\n",
       "...          ...              ...            ...\n",
       "54571  265375648           Felony         Queens\n",
       "54572  265375611      Misdemeanor      Manhattan\n",
       "54573  265027445           Felony         Queens\n",
       "54574  265277526      Misdemeanor         Queens\n",
       "54575  265989716           Felony         Queens\n",
       "\n",
       "[53922 rows x 3 columns]"
      ]
     },
     "execution_count": 17,
     "metadata": {},
     "output_type": "execute_result"
    }
   ],
   "source": [
    "df2 = df1.loc[:,['ARREST_KEY','LAW_CAT_CD', 'ARREST_BORO']]\n",
    "df3 = df2.rename(columns = {'ARREST_KEY':'Arrest_ID' ,'LAW_CAT_CD':'Level_of_Offense', 'ARREST_BORO':'Borough'})\n",
    "df3\n",
    "#Remove unnecessary columns and rename"
   ]
  },
  {
   "cell_type": "code",
   "execution_count": 24,
   "metadata": {},
   "outputs": [
    {
     "data": {
      "text/html": [
       "<div>\n",
       "<style scoped>\n",
       "    .dataframe tbody tr th:only-of-type {\n",
       "        vertical-align: middle;\n",
       "    }\n",
       "\n",
       "    .dataframe tbody tr th {\n",
       "        vertical-align: top;\n",
       "    }\n",
       "\n",
       "    .dataframe thead th {\n",
       "        text-align: right;\n",
       "    }\n",
       "</style>\n",
       "<table border=\"1\" class=\"dataframe\">\n",
       "  <thead>\n",
       "    <tr style=\"text-align: right;\">\n",
       "      <th></th>\n",
       "      <th>Level_of_Offense</th>\n",
       "      <th>count</th>\n",
       "    </tr>\n",
       "  </thead>\n",
       "  <tbody>\n",
       "    <tr>\n",
       "      <th>0</th>\n",
       "      <td>Felony</td>\n",
       "      <td>23288</td>\n",
       "    </tr>\n",
       "    <tr>\n",
       "      <th>1</th>\n",
       "      <td>Misdemeanor</td>\n",
       "      <td>30325</td>\n",
       "    </tr>\n",
       "    <tr>\n",
       "      <th>2</th>\n",
       "      <td>Violation</td>\n",
       "      <td>309</td>\n",
       "    </tr>\n",
       "  </tbody>\n",
       "</table>\n",
       "</div>"
      ],
      "text/plain": [
       "  Level_of_Offense  count\n",
       "0           Felony  23288\n",
       "1      Misdemeanor  30325\n",
       "2        Violation    309"
      ]
     },
     "execution_count": 24,
     "metadata": {},
     "output_type": "execute_result"
    }
   ],
   "source": [
    "df_offense = df3.groupby(['Level_of_Offense'])['Arrest_ID'].count().reset_index(name='count')\n",
    "df_offense\n",
    "#Showing far less violation offense instances than Felony and Misdemeanor"
   ]
  },
  {
   "cell_type": "code",
   "execution_count": 25,
   "metadata": {},
   "outputs": [
    {
     "data": {
      "text/html": [
       "<div>\n",
       "<style scoped>\n",
       "    .dataframe tbody tr th:only-of-type {\n",
       "        vertical-align: middle;\n",
       "    }\n",
       "\n",
       "    .dataframe tbody tr th {\n",
       "        vertical-align: top;\n",
       "    }\n",
       "\n",
       "    .dataframe thead th {\n",
       "        text-align: right;\n",
       "    }\n",
       "</style>\n",
       "<table border=\"1\" class=\"dataframe\">\n",
       "  <thead>\n",
       "    <tr style=\"text-align: right;\">\n",
       "      <th></th>\n",
       "      <th>Borough</th>\n",
       "      <th>count</th>\n",
       "    </tr>\n",
       "  </thead>\n",
       "  <tbody>\n",
       "    <tr>\n",
       "      <th>0</th>\n",
       "      <td>Bronx</td>\n",
       "      <td>12749</td>\n",
       "    </tr>\n",
       "    <tr>\n",
       "      <th>1</th>\n",
       "      <td>Brooklyn</td>\n",
       "      <td>15144</td>\n",
       "    </tr>\n",
       "    <tr>\n",
       "      <th>2</th>\n",
       "      <td>Manhattan</td>\n",
       "      <td>12305</td>\n",
       "    </tr>\n",
       "    <tr>\n",
       "      <th>3</th>\n",
       "      <td>Queens</td>\n",
       "      <td>11401</td>\n",
       "    </tr>\n",
       "    <tr>\n",
       "      <th>4</th>\n",
       "      <td>Staten Island</td>\n",
       "      <td>2323</td>\n",
       "    </tr>\n",
       "  </tbody>\n",
       "</table>\n",
       "</div>"
      ],
      "text/plain": [
       "         Borough  count\n",
       "0          Bronx  12749\n",
       "1       Brooklyn  15144\n",
       "2      Manhattan  12305\n",
       "3         Queens  11401\n",
       "4  Staten Island   2323"
      ]
     },
     "execution_count": 25,
     "metadata": {},
     "output_type": "execute_result"
    }
   ],
   "source": [
    "df_borough = df3.groupby(['Borough'])['Arrest_ID'].count().reset_index(name='count')\n",
    "df_borough\n",
    "#Instances of offenses split pretty evenly between all boroughs except Staten Island"
   ]
  },
  {
   "cell_type": "code",
   "execution_count": 29,
   "metadata": {},
   "outputs": [
    {
     "data": {
      "text/plain": [
       "<matplotlib.axes._subplots.AxesSubplot at 0x18521782488>"
      ]
     },
     "execution_count": 29,
     "metadata": {},
     "output_type": "execute_result"
    },
    {
     "data": {
      "image/png": "[encoded data removed]",
      "text/plain": [
       "<Figure size 432x288 with 1 Axes>"
      ]
     },
     "metadata": {
      "needs_background": "light"
     },
     "output_type": "display_data"
    }
   ],
   "source": [
    "sn.countplot(x = 'Borough', hue = 'Level_of_Offense', data = df3)"
   ]
  },
  {
   "cell_type": "code",
   "execution_count": 36,
   "metadata": {},
   "outputs": [
    {
     "data": {
      "text/plain": [
       "Text(0.5, 1.0, 'Misdemeanor Arrests by Borough')"
      ]
     },
     "execution_count": 36,
     "metadata": {},
     "output_type": "execute_result"
    },
    {
     "data": {
      "image/png": "[encoded data removed]",
      "text/plain": [
       "<Figure size 360x360 with 1 Axes>"
      ]
     },
     "metadata": {},
     "output_type": "display_data"
    }
   ],
   "source": [
    "df_offense_misdemeanor = df3.query(\"Level_of_Offense == 'Misdemeanor'\").groupby(['Borough'])['Arrest_ID'].count().reset_index(name='count')\n",
    "labels = df_offense_misdemeanor['Borough']\n",
    "arrests = df_offense_misdemeanor['count']\n",
    "\n",
    "plot.figure(figsize=(5,5))\n",
    "plot.pie(arrests, labels = labels, autopct='%1.1f%%')\n",
    "plot.axis('equal')\n",
    "plot.title('Misdemeanor Arrests by Borough',fontsize = 25)"
   ]
  },
  {
   "cell_type": "code",
   "execution_count": 37,
   "metadata": {},
   "outputs": [
    {
     "data": {
      "text/plain": [
       "Text(0.5, 1.0, 'Felony Arrests by Borough')"
      ]
     },
     "execution_count": 37,
     "metadata": {},
     "output_type": "execute_result"
    },
    {
     "data": {
      "image/png": "[encoded data removed]",
      "text/plain": [
       "<Figure size 360x360 with 1 Axes>"
      ]
     },
     "metadata": {},
     "output_type": "display_data"
    }
   ],
   "source": [
    "df_offense_felony = df3.query(\"Level_of_Offense == 'Felony'\").groupby(['Borough'])['Arrest_ID'].count().reset_index(name='count')\n",
    "labels = df_offense_felony['Borough']\n",
    "arrests = df_offense_felony['count']\n",
    "\n",
    "plot.figure(figsize=(5,5))\n",
    "plot.pie(arrests, labels = labels, autopct='%1.1f%%')\n",
    "plot.axis('equal')\n",
    "plot.title('Felony Arrests by Borough',fontsize = 25)"
   ]
  },
  {
   "cell_type": "code",
   "execution_count": 38,
   "metadata": {},
   "outputs": [
    {
     "data": {
      "text/plain": [
       "Text(0.5, 1.0, 'All Arrests by Borough')"
      ]
     },
     "execution_count": 38,
     "metadata": {},
     "output_type": "execute_result"
    },
    {
     "data": {
      "image/png": "[encoded data removed]",
      "text/plain": [
       "<Figure size 360x360 with 1 Axes>"
      ]
     },
     "metadata": {},
     "output_type": "display_data"
    }
   ],
   "source": [
    "df_offenses = df3.groupby(['Borough'])['Arrest_ID'].count().reset_index(name='count')\n",
    "labels = df_offenses['Borough']\n",
    "arrests = df_offenses['count']\n",
    "\n",
    "plot.figure(figsize=(5,5))\n",
    "plot.pie(arrests, labels = labels, autopct='%1.1f%%')\n",
    "plot.axis('equal')\n",
    "plot.title('All Arrests by Borough',fontsize = 25)"
   ]
  },
  {
   "cell_type": "code",
   "execution_count": 39,
   "metadata": {},
   "outputs": [],
   "source": [
    "#Conclusions: In all boroughs, there are more arrests for misdemeanors than felonies. Violations make up a very small fraction of arrests.\n",
    "#Looking at by Borough, Brooklyn consistently has the highest relative percentage of arrests in total and by signficiant type (excluding violations)"
   ]
  },
  {
   "cell_type": "code",
   "execution_count": null,
   "metadata": {},
   "outputs": [],
   "source": []
  }
 ],
 "metadata": {
  "kernelspec": {
   "display_name": "Python 3",
   "language": "python",
   "name": "python3"
  },
  "language_info": {
   "codemirror_mode": {
    "name": "ipython",
    "version": 3
   },
   "file_extension": ".py",
   "mimetype": "text/x-python",
   "name": "python",
   "nbconvert_exporter": "python",
   "pygments_lexer": "ipython3",
   "version": "3.7.6"
  }
 },
 "nbformat": 4,
 "nbformat_minor": 4
}
